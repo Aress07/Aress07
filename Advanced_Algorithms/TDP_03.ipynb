{
 "cells": [
  {
   "cell_type": "markdown",
   "metadata": {},
   "source": [
    "## Partie Pratique"
   ]
  },
  {
   "cell_type": "markdown",
   "metadata": {},
   "source": [
    "Exercice 2: "
   ]
  },
  {
   "cell_type": "code",
   "execution_count": 1,
   "metadata": {},
   "outputs": [],
   "source": [
    "def partition_lomuto(T, d, f):\n",
    "    x = T[f]\n",
    "    i = d - 1\n",
    "    j = i + 1\n",
    "    while ( j < f ):\n",
    "        if T[j] < x:\n",
    "            T[i+1], T[j] = T[j], T[i+1]\n",
    "            i += 1\n",
    "        j += 1\n",
    "    T[i + 1], T[f] = T[f], T[i + 1]\n",
    "    return i + 1"
   ]
  },
  {
   "cell_type": "code",
   "execution_count": 2,
   "metadata": {},
   "outputs": [],
   "source": [
    "def partition(T, d, f):\n",
    "    x = T[f]\n",
    "    indInf = d\n",
    "    indSup = f - 1\n",
    "    while indInf <= indSup:\n",
    "        if T[indInf] < x:\n",
    "            indInf += 1\n",
    "        else:\n",
    "            T[indInf], T[indSup] = T[indSup], T[indInf]\n",
    "            indSup -= 1\n",
    "    T[indSup + 1], T[f] = T[f], T[indSup]\n",
    "    return indSup + 1"
   ]
  },
  {
   "cell_type": "code",
   "execution_count": 3,
   "metadata": {},
   "outputs": [],
   "source": [
    "def quick_sort(T):\n",
    "    if len(T) <= 1:\n",
    "        return T\n",
    "    pivot = T[-1]\n",
    "    left = [x for x in T[:-1] if x < pivot]   \n",
    "    right = [x for x in T[:-1] if x >= pivot]  \n",
    "    # print(quick_sort(left) + [pivot] + quick_sort(right))\n",
    "    return quick_sort(left) + [pivot] + quick_sort(right)\n"
   ]
  },
  {
   "cell_type": "code",
   "execution_count": 4,
   "metadata": {},
   "outputs": [],
   "source": [
    "import random\n",
    "def generer_tableau_aleatoirement(n):\n",
    "    return [random.randint(0, 100) for _ in range(n)]"
   ]
  },
  {
   "cell_type": "code",
   "execution_count": 5,
   "metadata": {},
   "outputs": [
    {
     "name": "stdout",
     "output_type": "stream",
     "text": [
      "Tableau initial : [38, 29, 62, 71, 55, 1, 11, 8, 5, 100]\n",
      "Tableau trie : [1, 5, 8, 11, 29, 38, 55, 62, 71, 100]\n"
     ]
    }
   ],
   "source": [
    "n = 10\n",
    "T = generer_tableau_aleatoirement(n)\n",
    "print(\"Tableau initial :\", T)\n",
    "R = quick_sort(T)\n",
    "print(\"Tableau trie :\", R)"
   ]
  },
  {
   "cell_type": "code",
   "execution_count": 14,
   "metadata": {},
   "outputs": [
    {
     "name": "stdout",
     "output_type": "stream",
     "text": [
      "n = 10, Temps d'exécution : 0.0 secondes\n",
      "n = 100, Temps d'exécution : 0.0 secondes\n",
      "n = 1000, Temps d'exécution : 0.0 secondes\n",
      "n = 10000, Temps d'exécution : 0.13408255577087402 secondes\n"
     ]
    }
   ],
   "source": [
    "import time\n",
    "\n",
    "for n in [10, 100, 1000, 10000]:\n",
    "    T = generer_tableau_aleatoirement(n)\n",
    "    s = time.time()\n",
    "    R = quick_sort(T)\n",
    "    f = time.time() - s\n",
    "    print(f\"n = {n}, Temps d'exécution : {f} secondes\")"
   ]
  },
  {
   "cell_type": "code",
   "execution_count": 20,
   "metadata": {},
   "outputs": [
    {
     "name": "stdout",
     "output_type": "stream",
     "text": [
      "n = 1000, Temps d'exécution : 0.12129569053649902 secondes\n"
     ]
    }
   ],
   "source": [
    "import time\n",
    "A = list(range(1000))\n",
    "s = time.time()\n",
    "R = quick_sort(A)\n",
    "f = time.time() - s\n",
    "print(f\"n = 1000, Temps d'exécution : {f} secondes\")"
   ]
  },
  {
   "cell_type": "code",
   "execution_count": 21,
   "metadata": {},
   "outputs": [
    {
     "name": "stdout",
     "output_type": "stream",
     "text": [
      "n = 1000, Temps d'exécution : 1.1196887493133545 secondes\n"
     ]
    }
   ],
   "source": [
    "A = list(range(1000, 0, -1))\n",
    "s = time.time()\n",
    "R = quick_sort(A)\n",
    "f = time.time() - s\n",
    "print(f\"n = 1000, Temps d'exécution : {f} secondes\")"
   ]
  },
  {
   "cell_type": "code",
   "execution_count": 22,
   "metadata": {},
   "outputs": [
    {
     "name": "stdout",
     "output_type": "stream",
     "text": [
      "n = 1000, Temps d'exécution : 0.13603830337524414 secondes\n"
     ]
    }
   ],
   "source": [
    "A = [42] * 1000\n",
    "s = time.time()\n",
    "quick_sort(A)\n",
    "f = time.time() - s\n",
    "print(f\"n = 1000, Temps d'exécution : {f} secondes\")"
   ]
  },
  {
   "cell_type": "markdown",
   "metadata": {},
   "source": [
    "Exercice 3:"
   ]
  },
  {
   "cell_type": "markdown",
   "metadata": {},
   "source": [
    "#### QuickSelect\n",
    "---\n",
    "- C'est un algorithme base sur le principe du tri rapide (QuickSort) pour trouver le k-ieme plus petit element d'un tableau sans le trier entierement.\n",
    "- sa complexite moyenne est de O(n).\n",
    "- QuickSelect s'arrete des qu'il trouve le k-ieme element, tandis que QuickSort trie tout le tableau. QuickSelect est donc plus rapide pour une recherche ciblee."
   ]
  },
  {
   "cell_type": "code",
   "execution_count": 23,
   "metadata": {},
   "outputs": [],
   "source": [
    "def quick_select(T, d, f, k):\n",
    "    if d == f:\n",
    "        return T[d]\n",
    "    pi = partition_lomuto(T, d, f)\n",
    "    if k == pi:\n",
    "        return T[k]\n",
    "    elif k < pi:\n",
    "        return quick_select(T, d, pi - 1, k)\n",
    "    else:\n",
    "        return quick_select(T, pi + 1, f, k)"
   ]
  },
  {
   "cell_type": "code",
   "execution_count": 24,
   "metadata": {},
   "outputs": [
    {
     "name": "stdout",
     "output_type": "stream",
     "text": [
      "n = 10, k = 5, Résultat = 42, Temps d'exécution : 0.0 secondes\n",
      "n = 100, k = 40, Résultat = 46, Temps d'exécution : 0.0 secondes\n",
      "n = 1000, k = 817, Résultat = 84, Temps d'exécution : 0.008583784103393555 secondes\n",
      "n = 10000, k = 9458, Résultat = 95, Temps d'exécution : 0.01700139045715332 secondes\n"
     ]
    }
   ],
   "source": [
    "for n in [10, 100, 1000, 10000]:\n",
    "    T = generer_tableau_aleatoirement(n)\n",
    "    k = random.randint(0, n - 1)\n",
    "    debut = time.time()\n",
    "    result = quick_select(T, 0, len(T) - 1, k)\n",
    "    temp_tot = time.time() - debut\n",
    "    print(f\"n = {n}, k = {k}, Résultat = {result}, Temps d'exécution : {temp_tot} secondes\")"
   ]
  },
  {
   "cell_type": "code",
   "execution_count": 76,
   "metadata": {},
   "outputs": [
    {
     "name": "stdout",
     "output_type": "stream",
     "text": [
      "1\n",
      "3\n",
      "5\n",
      "7\n",
      "9\n",
      "0\n",
      "2\n",
      "4\n",
      "6\n",
      "8\n"
     ]
    }
   ],
   "source": [
    "for i in range(10):\n",
    "    print(( 3*4 % 11 +2*i) % 11) "
   ]
  },
  {
   "cell_type": "code",
   "execution_count": 79,
   "metadata": {},
   "outputs": [
    {
     "name": "stdout",
     "output_type": "stream",
     "text": [
      "4\n",
      "5\n",
      "0\n",
      "4\n",
      "8\n",
      "5\n",
      "0\n",
      "5\n",
      "5\n"
     ]
    }
   ],
   "source": [
    "c = [33, 37, 6, 99, 16, 26, 50, 70, 4]\n",
    "for _ in c:\n",
    "    print(((3*_ + 4) % 11 +0) % 11) "
   ]
  },
  {
   "cell_type": "code",
   "execution_count": 97,
   "metadata": {},
   "outputs": [
    {
     "data": {
      "text/plain": [
       "10"
      ]
     },
     "execution_count": 97,
     "metadata": {},
     "output_type": "execute_result"
    }
   ],
   "source": [
    "((3*4 + 4) % 11 + 4**2) % 11"
   ]
  }
 ],
 "metadata": {
  "kernelspec": {
   "display_name": "base",
   "language": "python",
   "name": "python3"
  },
  "language_info": {
   "codemirror_mode": {
    "name": "ipython",
    "version": 3
   },
   "file_extension": ".py",
   "mimetype": "text/x-python",
   "name": "python",
   "nbconvert_exporter": "python",
   "pygments_lexer": "ipython3",
   "version": "3.12.4"
  }
 },
 "nbformat": 4,
 "nbformat_minor": 2
}
