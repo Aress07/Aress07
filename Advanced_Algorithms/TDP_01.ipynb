{
 "cells": [
  {
   "cell_type": "markdown",
   "metadata": {},
   "source": [
    "# TDP1 \n",
    "## Partie 2\n",
    "### Exercice 4: "
   ]
  },
  {
   "cell_type": "code",
   "execution_count": 12,
   "metadata": {},
   "outputs": [
    {
     "name": "stdout",
     "output_type": "stream",
     "text": [
      "kayyak <-\n",
      "ayya <-\n",
      "yy <-\n",
      " <-\n"
     ]
    },
    {
     "data": {
      "text/plain": [
       "True"
      ]
     },
     "execution_count": 12,
     "metadata": {},
     "output_type": "execute_result"
    }
   ],
   "source": [
    "def copiepos(T,TPOS):\n",
    "    for _ in T:\n",
    "        if _ >= 0:\n",
    "            TPOS.append(_)\n",
    "\n",
    "def copieneg(T,TNEG):\n",
    "    for _ in T:\n",
    "        if _ < 0:\n",
    "            TNEG.append(_)\n",
    "\n",
    "# somme de chiffre:\n",
    "def Som_Chiff(n):\n",
    "    somme = 0 \n",
    "    while n!= 0:\n",
    "        somme += n % 10\n",
    "        n //=10\n",
    "    return somme\n",
    "\n",
    "def Som_Chiff_rec(n):\n",
    "    if n==0:\n",
    "        return 0\n",
    "    else:\n",
    "        return n % 10 + Som_Chiff_rec(n // 10)\n",
    "\n",
    "def Decal_lettre_chaine(string,n):\n",
    "    CHD = string[-n:] + string[:-n]\n",
    "    return CHD\n",
    "\n",
    "def Occ_Rec(L,e):\n",
    "    if not L:\n",
    "        return 0\n",
    "    elif L[0] == e:\n",
    "        return 1 + Occ_Rec(L[1:], e)\n",
    "    else:\n",
    "        return Occ_Rec(L[1:], e)\n",
    "\n",
    "def SED(chaine):\n",
    "    T = list(chaine)\n",
    "    for _ in chaine:\n",
    "        if _ == \" \":\n",
    "            T.remove(_)\n",
    "        else:\n",
    "            break\n",
    "        chaine = \"\".join(T)\n",
    "    return chaine\n",
    "\n",
    "def SEDR(L):\n",
    "    if not L:\n",
    "        return 0\n",
    "    elif L[0] == \" \":\n",
    "        return L[1:]\n",
    "    else: \n",
    "        return SEDR(L[1:])\n",
    "\n",
    "def SEF(chaine):\n",
    "    T = chaine[::-1]\n",
    "    T = SED(T)\n",
    "    T = T[::-1]\n",
    "    return T\n",
    "\n",
    "def SEDF(chaine):\n",
    "    T = SEF(SED(chaine))\n",
    "    return T\n",
    "\n",
    "def Palindrom_Rec(chaine):\n",
    "    print(chaine,\"<-\")\n",
    "    if len(chaine) <= 1:\n",
    "        return True\n",
    "    elif chaine[0] != chaine[-1]:\n",
    "        return False\n",
    "    return Palindrom_Rec(chaine[1:-1])\n",
    "k = Palindrom_Rec(\"kayyak\")\n",
    "k"
   ]
  },
  {
   "cell_type": "markdown",
   "metadata": {},
   "source": [
    "### Exercice 5:"
   ]
  },
  {
   "cell_type": "code",
   "execution_count": 22,
   "metadata": {},
   "outputs": [
    {
     "data": {
      "text/plain": [
       "True"
      ]
     },
     "execution_count": 22,
     "metadata": {},
     "output_type": "execute_result"
    }
   ],
   "source": [
    "n = int(input(\"Entrer le nombre des lignes: \"))\n",
    "def TriPas(n):\n",
    "    T = [[0 for _ in range(n)] for _ in range(n)]\n",
    "    for i in range(n):\n",
    "        for j in range(i+1):\n",
    "            if(j==0 or (i==j)):\n",
    "                T[i][j] = 1\n",
    "            else:\n",
    "                T[i][j] = T[i-1][j] + T[i-1][j-1]\n",
    "    return T\n",
    "\n",
    "def TrPascal(n,M):\n",
    "    for i in range(n):\n",
    "        for j in range(i+1):\n",
    "            if (j==0 or (i==j)):\n",
    "                if M[i][j] != 1:\n",
    "                    return False\n",
    "            else:\n",
    "                if M[i][j] != M[i-1][j] + M[i-1][j-1]:\n",
    "                    return False\n",
    "    return True"
   ]
  },
  {
   "cell_type": "markdown",
   "metadata": {},
   "source": [
    "### Exercice 6"
   ]
  },
  {
   "cell_type": "code",
   "execution_count": 48,
   "metadata": {},
   "outputs": [
    {
     "data": {
      "text/plain": [
       "True"
      ]
     },
     "execution_count": 48,
     "metadata": {},
     "output_type": "execute_result"
    }
   ],
   "source": [
    "def ANTISYM(M):\n",
    "    for i in range(len(M)):\n",
    "        for j in range(len(M[0])):\n",
    "            if M[i][j] != -M[j][i]:\n",
    "                return False\n",
    "    return True \n",
    "M = [[0,2,-5],\n",
    "     [-2,0,9],\n",
    "     [5,-9,0]]\n",
    "N = [[0,4],\n",
    "     [-4,0]]\n",
    "\n",
    "def ANTISYM_PRIME(M):\n",
    "    return M == [[-M[j][i] for j in range(len(M))] for i in range(len(M[0]))]\n",
    "\n",
    "def CHECK_DIAG(M):\n",
    "    for i in range(len(M)):\n",
    "        for j in range(len(M)):\n",
    "            if j != i:\n",
    "                if M[i][j] != 0:\n",
    "                    return False\n",
    "    return True\n",
    "\n",
    "def HANKEL(M):\n",
    "    for i in range(1,len(M)):\n",
    "        for j in range(len(M)-1):\n",
    "            if M[i][j] != M[i-1][j+1]:\n",
    "                return False\n",
    "    return True\n",
    "\n",
    "\n",
    "\n",
    "M = [[3,7,-1,2,6],\n",
    "     [7,-1,2,6,18],\n",
    "     [-1,2,6,18,4],\n",
    "     [2,6,18,4,-5],\n",
    "     [6,18,4,-5,125]]\n",
    "m = HANKEL(M)\n",
    "m"
   ]
  },
  {
   "cell_type": "markdown",
   "metadata": {},
   "source": [
    "### Exercice 7\n"
   ]
  },
  {
   "cell_type": "code",
   "execution_count": null,
   "metadata": {},
   "outputs": [
    {
     "data": {
      "text/plain": [
       "15"
      ]
     },
     "execution_count": 84,
     "metadata": {},
     "output_type": "execute_result"
    }
   ],
   "source": [
    "\n",
    "def Multip_1(M,N):\n",
    "    R = 0\n",
    "    while True:\n",
    "        if N%2 != 0 :\n",
    "            R += M \n",
    "        N //= 2\n",
    "        M *= 2\n",
    "        if N < 1:\n",
    "            break\n",
    "    return R\n",
    "# la complexite de la solution avec ( nombre de division ) est: O(Log(n))\n",
    "# a chaque iteration N est divise par 2, Log N correspond au nombre de division successives par 2\n",
    "\n",
    "def prod_shift_iter(N,M):\n",
    "    D = 0\n",
    "    for i in range(N):\n",
    "        D += M\n",
    "    return D\n",
    "\n",
    "def prod_shift_rec(N,M):\n",
    "    if N ==0:\n",
    "        return 0\n",
    "    return M + prod_shift_rec(N-1,M)\n"
   ]
  },
  {
   "cell_type": "markdown",
   "metadata": {},
   "source": [
    "### Exercice 8"
   ]
  },
  {
   "cell_type": "code",
   "execution_count": 164,
   "metadata": {},
   "outputs": [
    {
     "data": {
      "text/plain": [
       "'  Chacun pour soi et Dieu pour tous  Bonne chance  Aujourd’hui c’est l’examen d’Algorithmique'"
      ]
     },
     "execution_count": 164,
     "metadata": {},
     "output_type": "execute_result"
    }
   ],
   "source": [
    "def NPT(texte):\n",
    "    phrases = texte.split(\".\")\n",
    "    return len(phrases)\n",
    "def NMT(texte):\n",
    "    mots = texte.split()\n",
    "    return len(mots)\n",
    "def Txt_Tab(TX, TCH):\n",
    "    TCH += TX.split('.')\n",
    "TH = []\n",
    "Txt_Tab(\"Aujourd'hui c'est l'examen d'Algorithmique. Bonne chance. Chacun pour soi et Dieu pour tous\",TH)\n",
    "TH\n",
    "def Inv_Txt(TX):\n",
    "    TX = TX.split(\".\")\n",
    "    TX = TX[::-1]\n",
    "    TX = \" \".join(TX)\n",
    "    return TX\n",
    "k = Inv_Txt(\" Aujourd’hui c’est l’examen d’Algorithmique. Bonne chance. Chacun pour soi et Dieu pour tous.\")\n",
    "k"
   ]
  }
 ],
 "metadata": {
  "kernelspec": {
   "display_name": ".venv",
   "language": "python",
   "name": "python3"
  },
  "language_info": {
   "codemirror_mode": {
    "name": "ipython",
    "version": 3
   },
   "file_extension": ".py",
   "mimetype": "text/x-python",
   "name": "python",
   "nbconvert_exporter": "python",
   "pygments_lexer": "ipython3",
   "version": "3.10.0"
  }
 },
 "nbformat": 4,
 "nbformat_minor": 2
}
